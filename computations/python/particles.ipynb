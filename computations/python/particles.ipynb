{
 "cells": [
  {
   "cell_type": "code",
   "execution_count": 9,
   "metadata": {},
   "outputs": [
    {
     "name": "stdout",
     "output_type": "stream",
     "text": [
      "[-1194.7, -1194.7, -1194.7, 8.9, 0, 1.851]\n",
      "modified!\n"
     ]
    }
   ],
   "source": [
    "from mesh import MeshGenerator\n",
    "import numpy as np\n",
    "\n",
    "mg = MeshGenerator()\n",
    "mg.build_mesh(\n",
    "    edge=14, \n",
    "    gap=83 * 2, \n",
    "    kind='cube',\n",
    "    radius=8.9,  \n",
    "    m=1.851\n",
    ")\n",
    "\n",
    "print(mg.data[0])\n",
    "mg.random_shift(max_shift=83*2*0.42)\n",
    "mg.save()"
   ]
  },
  {
   "cell_type": "code",
   "execution_count": null,
   "metadata": {},
   "outputs": [],
   "source": []
  }
 ],
 "metadata": {
  "interpreter": {
   "hash": "fee27bc457f9cfbaa6258b8f30d1209e5e13ac2f27b927a18c7cbb8237c26342"
  },
  "kernelspec": {
   "display_name": "Python 3.8.8 64-bit ('base': conda)",
   "language": "python",
   "name": "python3"
  },
  "language_info": {
   "codemirror_mode": {
    "name": "ipython",
    "version": 3
   },
   "file_extension": ".py",
   "mimetype": "text/x-python",
   "name": "python",
   "nbconvert_exporter": "python",
   "pygments_lexer": "ipython3",
   "version": "3.8.8"
  },
  "orig_nbformat": 4
 },
 "nbformat": 4,
 "nbformat_minor": 2
}
