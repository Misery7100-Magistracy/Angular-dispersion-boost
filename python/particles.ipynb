{
 "cells": [
  {
   "cell_type": "code",
   "execution_count": 1,
   "metadata": {},
   "outputs": [],
   "source": [
    "from mesh import MeshGenerator"
   ]
  },
  {
   "cell_type": "code",
   "execution_count": null,
   "metadata": {},
   "outputs": [],
   "source": [
    "mg = MeshGenerator()\n",
    "mg.build_mesh(\n",
    "    edge=12, \n",
    "    gap=83 * 3, \n",
    "    kind='cube',\n",
    "    radius=8.9,  \n",
    "    m=1.851\n",
    ")\n",
    "mg.save()"
   ]
  }
 ],
 "metadata": {
  "interpreter": {
   "hash": "fee27bc457f9cfbaa6258b8f30d1209e5e13ac2f27b927a18c7cbb8237c26342"
  },
  "kernelspec": {
   "display_name": "Python 3.8.8 64-bit ('base': conda)",
   "language": "python",
   "name": "python3"
  },
  "language_info": {
   "codemirror_mode": {
    "name": "ipython",
    "version": 3
   },
   "file_extension": ".py",
   "mimetype": "text/x-python",
   "name": "python",
   "nbconvert_exporter": "python",
   "pygments_lexer": "ipython3",
   "version": "3.8.8"
  },
  "orig_nbformat": 4
 },
 "nbformat": 4,
 "nbformat_minor": 2
}
